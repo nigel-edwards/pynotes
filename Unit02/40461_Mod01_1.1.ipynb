{
  "cells": [
    {
      "metadata": {},
      "cell_type": "markdown",
      "source": "# Section 1.1\n## String Sequences\n- **Accessing string characters with index**\n- Accessing substrings with index slicing\n- Iterating through characters of a string\n- More string methods\n\n----- \n\n### Student will be able to\n- **Work with string characters by index**\n- Slice strings into substrings\n- Iterate through string characters\n- Use string methods"
    },
    {
      "metadata": {
        "collapsed": true
      },
      "cell_type": "markdown",
      "source": "## Concept: Accessing a Single String Character\n[![view video](https://iajupyterprodblobs.blob.core.windows.net/imagecontainer/common/play_video.png)]( http://edxinteractivepage.blob.core.windows.net/edxpages/f7cff1a7-5601-48a1-95a6-fd1fdfabd20e.html?details=[{\"src\":\"http://jupyternootbookwams.streaming.mediaservices.windows.net/a8044252-4f2f-4960-b37b-70da8fe4769a/Unit2_Section1.1a-String_Index_Address.ism/manifest\",\"type\":\"application/vnd.ms-sstr+xml\"}],[{\"src\":\"http://jupyternootbookwams.streaming.mediaservices.windows.net/a8044252-4f2f-4960-b37b-70da8fe4769a/Unit2_Section1.1a-String_Index_Address.vtt\",\"srclang\":\"en\",\"kind\":\"subtitles\",\"label\":\"english\"}])\n### Addressing a string index\nStrings are sequences of characters.  Another common sequence type used in this course is a **list**.  Sequences index items counting from 0 for the first item.\n\n![string with index for each letter](https://iajupyterprodblobs.blob.core.windows.net/imagecontainer/string_indexes.PNG)  \n\n```python\n# assign string to student_name\nstudent_name = \"Alton\"\n# first character is at index 0\nstudent_name[0]\n```  \n"
    },
    {
      "metadata": {},
      "cell_type": "markdown",
      "source": "### Examples"
    },
    {
      "metadata": {
        "collapsed": true,
        "trusted": false
      },
      "cell_type": "code",
      "source": "# [ ] review and run example - note the first element is always index = 0\nstudent_name = \"Alton\"\nprint(student_name[0], \"<-- first character at index 0\")\nprint(student_name[1])\nprint(student_name[2])\nprint(student_name[3])\nprint(student_name[4])",
      "execution_count": null,
      "outputs": []
    },
    {
      "metadata": {
        "trusted": false
      },
      "cell_type": "code",
      "source": "# [ ] review and run example\nstudent_name = \"Jin\"\nif student_name[0].lower() == \"a\":\n    print('Winner! Name starts with A:', student_name)\nelif student_name[0].lower() == \"j\":\n    print('Winner! Name starts with J:', student_name)\nelse:\n    print('Not a match, try again tomorrow:', student_name)",
      "execution_count": null,
      "outputs": []
    },
    {
      "metadata": {
        "trusted": false
      },
      "cell_type": "code",
      "source": "# [ ] review and run ERROR example\n# cannot index out of range\nstudent_name = \"Tobias\"\nprint(student_name[6])",
      "execution_count": null,
      "outputs": []
    },
    {
      "metadata": {
        "collapsed": true
      },
      "cell_type": "markdown",
      "source": "## Task 1: Work with individual string characters  \n\n|                                                                 |\n|-----------------------------------------------------------------|\n| **Remember:** The first character in a string is at **index 0**.|\n|                                                                 |\n"
    },
    {
      "metadata": {
        "trusted": false
      },
      "cell_type": "code",
      "source": "# [ ] assign a string 5 or more letters long to the variable: street_name\n# [ ] print the 1st, 3rd and 5th characters\n\n\n",
      "execution_count": null,
      "outputs": []
    },
    {
      "metadata": {
        "trusted": false
      },
      "cell_type": "code",
      "source": "# [ ] Create an input variable: team_name - ask that second letter = \"i\", \"o\", or \"u\"\n# [ ] Test if team_name 2nd character = \"i\", \"o\", or \"u\" and print a message\n# note: use if, elif and else\n\n",
      "execution_count": null,
      "outputs": []
    },
    {
      "metadata": {},
      "cell_type": "markdown",
      "source": "## Concept: Using a Negative Index \n[![view video](https://iajupyterprodblobs.blob.core.windows.net/imagecontainer/common/play_video.png)](http://edxinteractivepage.blob.core.windows.net/edxpages/f7cff1a7-5601-48a1-95a6-fd1fdfabd20e.html?details=[{\"src\":\"http://jupyternootbookwams.streaming.mediaservices.windows.net/28da3b48-538d-4412-ae7b-ce95e9892ce9/Unit2_Section1.1b-Using_a_Negative_Index.ism/manifest\",\"type\":\"application/vnd.ms-sstr+xml\"}],[{\"src\":\"http://jupyternootbookwams.streaming.mediaservices.windows.net/28da3b48-538d-4412-ae7b-ce95e9892ce9/Unit2_Section1.1b-Using_a_Negative_Index.vtt\",\"srclang\":\"en\",\"kind\":\"subtitles\",\"label\":\"english\"}])\n### Access the end of a string using -1\nStrings assign an **index** number address to each string character\n\n- First character in a string is index 0\n- Last character in a string is index **-1**\n\n![negative string index counts from the end](https://iajupyterprodblobs.blob.core.windows.net/imagecontainer/string_neg_index.PNG)\n\nTo access the last character in a string:\n```python\nstudent_name[-1]\n```\n"
    },
    {
      "metadata": {},
      "cell_type": "markdown",
      "source": "### Examples\n\n"
    },
    {
      "metadata": {},
      "cell_type": "markdown",
      "source": "#### access the last character with the -1 index\nnegative index counts back from the last character in a string  "
    },
    {
      "metadata": {
        "trusted": false
      },
      "cell_type": "code",
      "source": "# [ ] review and run example\nstudent_name = \"Joana\"\n\n# get last letter\nend_letter = student_name[-1]\nprint(student_name,\"ends with\", \"'\" + end_letter + \"'\")",
      "execution_count": null,
      "outputs": []
    },
    {
      "metadata": {
        "trusted": false
      },
      "cell_type": "code",
      "source": "# [ ] review and run example\n# get second to last letter\nsecond_last_letter = student_name[-2]\nprint(student_name,\"has 2nd to last letter of\", \"'\" + second_last_letter + \"'\")",
      "execution_count": null,
      "outputs": []
    },
    {
      "metadata": {
        "trusted": false
      },
      "cell_type": "code",
      "source": "# [ ] review and run example\n# you can get to the same letter with index counting + or -\nprint(\"for\", student_name)\nprint(\"index 3 =\", \"'\" + student_name[3] + \"'\")\nprint(\"index -2 =\",\"'\" + student_name[-2] + \"'\")",
      "execution_count": null,
      "outputs": []
    },
    {
      "metadata": {
        "collapsed": true
      },
      "cell_type": "markdown",
      "source": "## Task 2\n"
    },
    {
      "metadata": {
        "trusted": false
      },
      "cell_type": "code",
      "source": "# [ ] assign a string 5 or more letters long to the variable: street_name\n# [ ] print the last 3 characters of street_name\n\n",
      "execution_count": null,
      "outputs": []
    },
    {
      "metadata": {
        "trusted": false
      },
      "cell_type": "code",
      "source": "# [ ] create and assign string variable: first_name\n\n# [ ] print the first and last letters of name\n\n",
      "execution_count": null,
      "outputs": []
    },
    {
      "metadata": {
        "collapsed": true
      },
      "cell_type": "markdown",
      "source": "## Task 3: Fix the errors"
    },
    {
      "metadata": {
        "trusted": false
      },
      "cell_type": "code",
      "source": "# [ ] Review, Run, Fix the error using string index\nshoe = \"tennis\"\n# print the last letter\nprint(shoe(-1))\n\n",
      "execution_count": null,
      "outputs": []
    },
    {
      "metadata": {},
      "cell_type": "markdown",
      "source": "[Terms of use](http://go.microsoft.com/fwlink/?LinkID=206977) &nbsp; [Privacy & cookies](https://go.microsoft.com/fwlink/?LinkId=521839) &nbsp; © 2017 Microsoft"
    }
  ],
  "metadata": {
    "anaconda-cloud": {},
    "kernelspec": {
      "name": "python3",
      "display_name": "Python 3",
      "language": "python"
    },
    "language_info": {
      "mimetype": "text/x-python",
      "nbconvert_exporter": "python",
      "name": "python",
      "pygments_lexer": "ipython3",
      "version": "3.5.4",
      "file_extension": ".py",
      "codemirror_mode": {
        "version": 3,
        "name": "ipython"
      }
    }
  },
  "nbformat": 4,
  "nbformat_minor": 1
}