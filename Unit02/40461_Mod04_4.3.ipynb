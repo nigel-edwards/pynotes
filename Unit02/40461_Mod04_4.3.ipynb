{
  "cells": [
    {
      "metadata": {},
      "cell_type": "markdown",
      "source": "# Section 4.3\n## File .readline() and .strip() Methods\n- File Read, a line at a time with `.readline()`\n- Remove characters using `.strip()`\n\n----- \n\n### Student will be able to\n- Use `.readline()` to read data from file, one line at a time\n- Use `.strip()` to remove new line characters and other whitespaces"
    },
    {
      "metadata": {},
      "cell_type": "markdown",
      "source": "## Concept: Read files a line at a time\n### .readline()\n[![view video](https://iajupyterprodblobs.blob.core.windows.net/imagecontainer/common/play_video.png)]( http://edxinteractivepage.blob.core.windows.net/edxpages/f7cff1a7-5601-48a1-95a6-fd1fdfabd20e.html?details=[{\"src\":\"http://jupyternootbookwams.streaming.mediaservices.windows.net/8f41bf3b-05b1-459e-87e9-419168b2bf0d/Unit2_Section4.3a-Readlines-Line_by_Line.ism/manifest\",\"type\":\"application/vnd.ms-sstr+xml\"}],[{\"src\":\"http://jupyternootbookwams.streaming.mediaservices.windows.net/8f41bf3b-05b1-459e-87e9-419168b2bf0d/Unit2_Section4.3a-Readlines-Line_by_Line.vtt\",\"srclang\":\"en\",\"kind\":\"subtitles\",\"label\":\"english\"}])\n### Use .readline() to read a line in a file as a string\nEach .readline() moves to the next available line in the file.\n```python\npoem1 = open('poem1.txt', 'r')\npoem_line1 = poem1.readline()\npoem_line2 = poem1.readline()\npoem_line3 = poem1.readline()\n```"
    },
    {
      "metadata": {},
      "cell_type": "markdown",
      "source": "### Examples"
    },
    {
      "metadata": {
        "trusted": false
      },
      "cell_type": "code",
      "source": "# [ ]Run to download file poem1.txt\n!curl https://raw.githubusercontent.com/MicrosoftLearning/intropython/master/poem1.txt -o poem1.txt ",
      "execution_count": null,
      "outputs": []
    },
    {
      "metadata": {
        "trusted": false
      },
      "cell_type": "code",
      "source": "# [ ] review and run example\n# open address to file\npoem1 = open('poem1.txt', 'r')",
      "execution_count": null,
      "outputs": []
    },
    {
      "metadata": {
        "collapsed": true,
        "trusted": false
      },
      "cell_type": "code",
      "source": "# [ ] review and run example\n# readline 1, 2, 3\npoem_line1 = poem1.readline()\npoem_line2 = poem1.readline()\npoem_line3 = poem1.readline()",
      "execution_count": null,
      "outputs": []
    },
    {
      "metadata": {
        "trusted": false
      },
      "cell_type": "code",
      "source": "# [ ] review and run example: print the first 3 .readline() values\nprint(poem_line1 + poem_line2 + poem_line3)",
      "execution_count": null,
      "outputs": []
    },
    {
      "metadata": {
        "trusted": false
      },
      "cell_type": "code",
      "source": "# [ ] review and run example printing return value & re-run several times\nprint(poem1.readline())",
      "execution_count": null,
      "outputs": []
    },
    {
      "metadata": {
        "collapsed": true,
        "trusted": false
      },
      "cell_type": "code",
      "source": "# [ ] review and run example to close file in memory- then run previous cell\n\npoem1.close()",
      "execution_count": null,
      "outputs": []
    },
    {
      "metadata": {
        "collapsed": true
      },
      "cell_type": "markdown",
      "source": "## Task 1: Use readline to get rainbow colors\n- Import https://raw.githubusercontent.com/MicrosoftLearning/intropython/master/rainbow as rainbow.txt  \n- Open rainbow.txt as rainbow_file as read-only  \n- Read the first 3 lines into variables: color1, color2, color3  \n- Close rainbow_file \n- Print the first 3 colors  "
    },
    {
      "metadata": {
        "trusted": false
      },
      "cell_type": "code",
      "source": "# [ ] import https://raw.githubusercontent.com/MicrosoftLearning/intropython/master/rainbow as rainbow.txt\n\n",
      "execution_count": null,
      "outputs": []
    },
    {
      "metadata": {
        "trusted": false
      },
      "cell_type": "code",
      "source": "# [ ] open rainbow.txt as rainbow_text\n\n",
      "execution_count": null,
      "outputs": []
    },
    {
      "metadata": {
        "collapsed": true,
        "trusted": false
      },
      "cell_type": "code",
      "source": "# [ ] read the first 3 lines into variables: color1, color2, color3\n\n",
      "execution_count": null,
      "outputs": []
    },
    {
      "metadata": {
        "collapsed": true,
        "trusted": false
      },
      "cell_type": "code",
      "source": "# [ ] close rainbow.txt\n\n",
      "execution_count": null,
      "outputs": []
    },
    {
      "metadata": {
        "trusted": false
      },
      "cell_type": "code",
      "source": "# [ ] print the first 3 colors\n\n",
      "execution_count": null,
      "outputs": []
    },
    {
      "metadata": {},
      "cell_type": "markdown",
      "source": "## Concept: `.readline()` in a `while` loop\n>```python\npoem_line = poem1.readline()\nwhile poem_line:\n    print(poem_line.capitalized())\n    poem_line = poem1.readline()\n```  \n[![view video](https://iajupyterprodblobs.blob.core.windows.net/imagecontainer/common/play_video.png)]( http://edxinteractivepage.blob.core.windows.net/edxpages/f7cff1a7-5601-48a1-95a6-fd1fdfabd20e.html?details=[{\"src\":\"http://jupyternootbookwams.streaming.mediaservices.windows.net/4662ff60-8839-4fd7-a85d-3aba9ebf8cd3/Unit2_Section4.3b-Readlines-While_Loops.ism/manifest\",\"type\":\"application/vnd.ms-sstr+xml\"}],[{\"src\":\"http://jupyternootbookwams.streaming.mediaservices.windows.net/4662ff60-8839-4fd7-a85d-3aba9ebf8cd3/Unit2_Section4.3b-Readlines-While_Loops.vtt\",\"srclang\":\"en\",\"kind\":\"subtitles\",\"label\":\"english\"}])\n### `while .readline()` \n- while loop continues while the readline() value in poem_line returns text  \n  - A string value evaluates as True in the while loop  \n  - An empty string, '', evaluates **not True** in the while loop \n- When readline() reaches the end of the file, an empty string is returned  \n"
    },
    {
      "metadata": {},
      "cell_type": "markdown",
      "source": "### Examples"
    },
    {
      "metadata": {
        "trusted": false
      },
      "cell_type": "code",
      "source": "# [ ] review and run example\n# open address to file\npoem1 = open('poem1.txt', 'r')",
      "execution_count": null,
      "outputs": []
    },
    {
      "metadata": {
        "trusted": false
      },
      "cell_type": "code",
      "source": "# [ ] review and run example - use a while loop to read each line of a file \n#  remove last character ('\\n') and print as upper case\npoem_line = poem1.readline()\n\nwhile poem_line:\n    print(poem_line[:-1].upper())\n    poem_line = poem1.readline()",
      "execution_count": null,
      "outputs": []
    },
    {
      "metadata": {
        "trusted": false
      },
      "cell_type": "code",
      "source": "# [ ] review and run example\npoem1.close()",
      "execution_count": null,
      "outputs": []
    },
    {
      "metadata": {
        "collapsed": true
      },
      "cell_type": "markdown",
      "source": "## Task 2: while .readline() rainbow colors\nNote: Assumes rainbow.txt has been imported in Task 1.\n\n- Open rainbow.txt as rainbow_file as read-only  \n- Read a color from each line of rainbow_file in a while loop  \n  - Print each color capitalized  \n- Close rainbow_file  "
    },
    {
      "metadata": {
        "trusted": false
      },
      "cell_type": "code",
      "source": "# [ ] open rainbow.txt as rainbow_text as read-only\n\n",
      "execution_count": null,
      "outputs": []
    },
    {
      "metadata": {
        "trusted": false
      },
      "cell_type": "code",
      "source": "# [ ] read the color from lines of rainbow_text in a while loop\n# [ ] print each color capitalized as the loop runs\n\n",
      "execution_count": null,
      "outputs": []
    },
    {
      "metadata": {
        "trusted": false
      },
      "cell_type": "code",
      "source": "# [ ] close rainbow_text \n\n",
      "execution_count": null,
      "outputs": []
    },
    {
      "metadata": {},
      "cell_type": "markdown",
      "source": "## Concept: `.readline()`  with `.strip()`\n[![view video](https://iajupyterprodblobs.blob.core.windows.net/imagecontainer/common/play_video.png)]( http://edxinteractivepage.blob.core.windows.net/edxpages/f7cff1a7-5601-48a1-95a6-fd1fdfabd20e.html?details=[{\"src\":\"http://jupyternootbookwams.streaming.mediaservices.windows.net/809d6b2c-1be9-4bea-8702-9eb328b9f551/Unit2_Section4.3c-Remove_Whitespace.ism/manifest\",\"type\":\"application/vnd.ms-sstr+xml\"}],[{\"src\":\"http://jupyternootbookwams.streaming.mediaservices.windows.net/809d6b2c-1be9-4bea-8702-9eb328b9f551/Unit2_Section4.3c-Remove_Whitespace.vtt\",\"srclang\":\"en\",\"kind\":\"subtitles\",\"label\":\"english\"}])\n### .strip() whitespace\n```python\npoem_line = poem1.readline().strip()\n```\n**.strip()** removes leading and trailing whitespace, including the '\\n' formatting character."
    },
    {
      "metadata": {},
      "cell_type": "markdown",
      "source": "### Examples"
    },
    {
      "metadata": {
        "trusted": false
      },
      "cell_type": "code",
      "source": "# [ ] review and run example\n# open address to file\npoem1 = open('poem1.txt', 'r')\n",
      "execution_count": null,
      "outputs": []
    },
    {
      "metadata": {
        "trusted": false
      },
      "cell_type": "code",
      "source": "# [ ] review and run example - readline while loop without removing '\\n'\npoem_line = poem1.readline()\n\nwhile poem_line:\n    print(poem_line)\n    poem_line = poem1.readline()\n\npoem1.close()",
      "execution_count": null,
      "outputs": []
    },
    {
      "metadata": {},
      "cell_type": "markdown",
      "source": "### Now with `.strip()` to remove leading and trailing whitespace characters"
    },
    {
      "metadata": {
        "trusted": false
      },
      "cell_type": "code",
      "source": "# [ ] review and run example - readline with .strip() to remove '\\n'\npoem1 = open('poem1.txt', 'r')\npoem_line = poem1.readline().strip()\n\nwhile poem_line:\n    print(poem_line)\n    poem_line = poem1.readline().strip()\n    \npoem1.close()",
      "execution_count": null,
      "outputs": []
    },
    {
      "metadata": {
        "collapsed": true
      },
      "cell_type": "markdown",
      "source": "## Task 3: `.readline()`  with `.strip()` rainbow colors\nNote: Assumes rainbow.txt has been imported in Task 1.\n\n- Open rainbow.txt as rainbow_file as read-only  \n- Read a color from each line of rainbow_file in a while loop  \n  - Use .strip to remove the whitespace  \n  - Print each color upper case  \n- Close rainbow_file "
    },
    {
      "metadata": {
        "trusted": false
      },
      "cell_type": "code",
      "source": "# [ ] open rainbow.txt as rainbow_text as read-only  \n\n",
      "execution_count": null,
      "outputs": []
    },
    {
      "metadata": {
        "trusted": false
      },
      "cell_type": "code",
      "source": "# [ ] read a color from each line of rainbow_text in a while loop  \n# use .strip to remove the whitespace '\\n' character \n# print each color upper case \n\n",
      "execution_count": null,
      "outputs": []
    },
    {
      "metadata": {
        "collapsed": true
      },
      "cell_type": "markdown",
      "source": "## Concept: `.strip()` with arguments\n[![view video](https://iajupyterprodblobs.blob.core.windows.net/imagecontainer/common/play_video.png)]( http://edxinteractivepage.blob.core.windows.net/edxpages/f7cff1a7-5601-48a1-95a6-fd1fdfabd20e.html?details=[{\"src\":\"http://jupyternootbookwams.streaming.mediaservices.windows.net/98672edd-b2c5-4478-aaec-42154a5b97c8/Unit2_Section4.3d-Strip_Arguments.ism/manifest\",\"type\":\"application/vnd.ms-sstr+xml\"}],[{\"src\":\"http://jupyternootbookwams.streaming.mediaservices.windows.net/98672edd-b2c5-4478-aaec-42154a5b97c8/Unit2_Section4.3d-Strip_Arguments.vtt\",\"srclang\":\"en\",\"kind\":\"subtitles\",\"label\":\"english\"}])\n### .strip() arguments\n```python\ncolor = rainbow_messy.readline().strip('*\\n*')\n```\n**`.strip('*\\n')`** removes leading and training **`*`** and **\\n**."
    },
    {
      "metadata": {},
      "cell_type": "markdown",
      "source": "### Examples"
    },
    {
      "metadata": {
        "trusted": false
      },
      "cell_type": "code",
      "source": "# [ ] review and run example: import rainbow_messy.txt\n!curl https://raw.githubusercontent.com/MicrosoftLearning/intropython/master/rainbow_messy -o rainbow_messy.txt",
      "execution_count": null,
      "outputs": []
    },
    {
      "metadata": {
        "trusted": false
      },
      "cell_type": "code",
      "source": "# [ ] review and run example: open file read only\nrainbow_messy = open('rainbow_messy.txt', 'r')",
      "execution_count": null,
      "outputs": []
    },
    {
      "metadata": {
        "trusted": false
      },
      "cell_type": "code",
      "source": "# [ ] review and run example: .readline() without .strip()\n\ncolor = rainbow_messy.readline()\n\nwhile color:\n    print(color)\n    color = rainbow_messy.readline()",
      "execution_count": null,
      "outputs": []
    },
    {
      "metadata": {
        "trusted": false
      },
      "cell_type": "code",
      "source": "# [ ] review and run example: strip \"*\" and newline ('\\n')\nrainbow_messy = open('rainbow_messy.txt', 'r')\n\ncolor = rainbow_messy.readline().strip('*\\n')\n\nwhile color:\n    print(color)\n    color = rainbow_messy.readline().strip('*\\n')\n\nrainbow_messy.close()",
      "execution_count": null,
      "outputs": []
    },
    {
      "metadata": {
        "collapsed": true
      },
      "cell_type": "markdown",
      "source": "## Task 4: `.strip()` with arguments\n\n- Run import of cities_messy.txt below at least once this notebook session\n- Run open cities_messy.txt below before each test of the while loop cell\n- Edit while loop to strip the colon ':' , newline and spaces\n- Close cities_messy"
    },
    {
      "metadata": {
        "trusted": false
      },
      "cell_type": "code",
      "source": "# [ ] import the file\n!curl https://raw.githubusercontent.com/MicrosoftLearning/intropython/master/cities_messy -o cities_messy.txt",
      "execution_count": null,
      "outputs": []
    },
    {
      "metadata": {
        "trusted": false
      },
      "cell_type": "code",
      "source": "# [ ] run to read the file into memory\ncities_messy = open('cities_messy.txt', 'r')\n",
      "execution_count": null,
      "outputs": []
    },
    {
      "metadata": {
        "trusted": false
      },
      "cell_type": "code",
      "source": "# [ ] edit the code to remove leading or trailing colon, newline and space characters\nline = cities_messy.readline()\n\nwhile line:\n    print(line)\n    line = cities_messy.readline()\n\n",
      "execution_count": null,
      "outputs": []
    },
    {
      "metadata": {},
      "cell_type": "markdown",
      "source": "## Task 5: `.strip()` parentheses from poem2_messy\n\n- Import https://raw.githubusercontent.com/MicrosoftLearning/intropython/master/poem2_messy as poem2_messy.txt  \n- Open poem2_messy.txt as poem2_messy in read mode  \n- Edit while loop to strip the leading and trailing parentheses & print the poem without blank lines  \n- Close poem2_messy"
    },
    {
      "metadata": {
        "trusted": false
      },
      "cell_type": "code",
      "source": "# [ ] import https://raw.githubusercontent.com/MicrosoftLearning/intropython/master/poem2_messy as poem2_messy.txt  \n\n",
      "execution_count": null,
      "outputs": []
    },
    {
      "metadata": {
        "trusted": false
      },
      "cell_type": "code",
      "source": "# [ ] open poem2_messy.txt as poem2_messy in read mode\n\n",
      "execution_count": null,
      "outputs": []
    },
    {
      "metadata": {
        "trusted": false
      },
      "cell_type": "code",
      "source": "# [ ] edit while loop to strip the leading and trailing parenthesis, and newlines\n# [ ] print the poem \nline = poem2_messy.readline()\n\nwhile line:\n    print(line)\n    line = poem2_messy.readline()\n\n\n",
      "execution_count": null,
      "outputs": []
    },
    {
      "metadata": {
        "collapsed": true
      },
      "cell_type": "markdown",
      "source": "[Terms of use](http://go.microsoft.com/fwlink/?LinkID=206977) &nbsp; [Privacy & cookies](https://go.microsoft.com/fwlink/?LinkId=521839) &nbsp; © 2017 Microsoft"
    }
  ],
  "metadata": {
    "anaconda-cloud": {},
    "kernelspec": {
      "name": "python3",
      "display_name": "Python 3",
      "language": "python"
    },
    "language_info": {
      "mimetype": "text/x-python",
      "nbconvert_exporter": "python",
      "name": "python",
      "pygments_lexer": "ipython3",
      "version": "3.5.4",
      "file_extension": ".py",
      "codemirror_mode": {
        "version": 3,
        "name": "ipython"
      }
    }
  },
  "nbformat": 4,
  "nbformat_minor": 1
}